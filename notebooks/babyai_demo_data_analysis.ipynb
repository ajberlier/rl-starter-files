{
 "cells": [
  {
   "cell_type": "code",
   "execution_count": null,
   "metadata": {},
   "outputs": [],
   "source": [
    "import pickle"
   ]
  },
  {
   "cell_type": "code",
   "execution_count": null,
   "metadata": {},
   "outputs": [],
   "source": [
    "# load pickle for a given environment\n",
    "file_path = '/Users/ajberlier/Dev/UMBC/babyai_data/demos/BabyAI-UnblockPickup-v0.pkl'"
   ]
  },
  {
   "cell_type": "code",
   "execution_count": null,
   "metadata": {},
   "outputs": [
    {
     "ename": "",
     "evalue": "",
     "output_type": "error",
     "traceback": [
      "\u001b[1;31mFailed to start the Kernel. \n",
      "\u001b[1;31mThe kernel died. Error: ... View Jupyter <a href='command:jupyter.viewOutput'>log</a> for further details."
     ]
    }
   ],
   "source": [
    "from __future__ import annotations\n",
    "\n",
    "import gymnasium as gym\n",
    "import pytest\n",
    "\n",
    "from minigrid.utils.baby_ai_bot import BabyAIBot\n",
    "\n",
    "# see discussion starting here: https://github.com/Farama-Foundation/Minigrid/pull/381#issuecomment-1646800992\n",
    "broken_bonus_envs = {\n",
    "    \"BabyAI-PutNextS5N2Carrying-v0\",\n",
    "    \"BabyAI-PutNextS6N3Carrying-v0\",\n",
    "    \"BabyAI-PutNextS7N4Carrying-v0\",\n",
    "    \"BabyAI-KeyInBox-v0\",\n",
    "}\n",
    "\n",
    "# get all babyai envs (except the broken ones)\n",
    "babyai_envs = []\n",
    "for k_i in gym.envs.registry.keys():\n",
    "    if k_i.split(\"-\")[0] == \"BabyAI\":\n",
    "        if k_i not in broken_bonus_envs:\n",
    "            babyai_envs.append(k_i)\n",
    "\n",
    "\n",
    "@pytest.mark.parametrize(\"env_id\", babyai_envs)\n",
    "def test_bot(env_id):\n",
    "    \"\"\"\n",
    "    The BabyAI Bot should be able to solve all BabyAI environments,\n",
    "    allowing us therefore to generate demonstrations.\n",
    "    \"\"\"\n",
    "    # Use the parameter env_id to make the environment\n",
    "    env = gym.make(env_id)\n",
    "    # env = gym.make(env_id, render_mode=\"human\") # for visual debugging\n",
    "\n",
    "    # reset env\n",
    "    curr_seed = 0\n",
    "\n",
    "    num_steps = 240\n",
    "    terminated = False\n",
    "    while not terminated:\n",
    "        env.reset(seed=curr_seed)\n",
    "\n",
    "        # create expert bot\n",
    "        expert = BabyAIBot(env)\n",
    "\n",
    "        last_action = None\n",
    "        for _step in range(num_steps):\n",
    "            action = expert.replan(last_action)\n",
    "            obs, reward, terminated, truncated, info = env.step(action)\n",
    "            last_action = action\n",
    "            env.render()\n",
    "\n",
    "            if terminated:\n",
    "                break\n",
    "\n",
    "        # try again with a different seed\n",
    "        curr_seed += 1\n",
    "\n",
    "    env.close()"
   ]
  },
  {
   "cell_type": "code",
   "execution_count": null,
   "metadata": {},
   "outputs": [],
   "source": []
  }
 ],
 "metadata": {
  "kernelspec": {
   "display_name": "rl-starter_env",
   "language": "python",
   "name": "python3"
  },
  "language_info": {
   "codemirror_mode": {
    "name": "ipython",
    "version": 3
   },
   "file_extension": ".py",
   "mimetype": "text/x-python",
   "name": "python",
   "nbconvert_exporter": "python",
   "pygments_lexer": "ipython3",
   "version": "3.10.12"
  }
 },
 "nbformat": 4,
 "nbformat_minor": 2
}
